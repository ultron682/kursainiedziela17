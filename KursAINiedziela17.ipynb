{
  "nbformat": 4,
  "nbformat_minor": 0,
  "metadata": {
    "colab": {
      "provenance": [],
      "authorship_tag": "ABX9TyPCOiY/UKb37hECCWF6uIkK"
    },
    "kernelspec": {
      "name": "python3",
      "display_name": "Python 3"
    },
    "language_info": {
      "name": "python"
    }
  },
  "cells": [
    {
      "cell_type": "code",
      "execution_count": 3,
      "metadata": {
        "colab": {
          "base_uri": "https://localhost:8080/"
        },
        "id": "1P-ldU7bhIjk",
        "outputId": "77132a51-21b1-4d0e-f8d8-8fd4e43b78da"
      },
      "outputs": [
        {
          "output_type": "stream",
          "name": "stdout",
          "text": [
            "\u001b[33mhint: Using 'master' as the name for the initial branch. This default branch name\u001b[m\n",
            "\u001b[33mhint: is subject to change. To configure the initial branch name to use in all\u001b[m\n",
            "\u001b[33mhint: of your new repositories, which will suppress this warning, call:\u001b[m\n",
            "\u001b[33mhint: \u001b[m\n",
            "\u001b[33mhint: \tgit config --global init.defaultBranch <name>\u001b[m\n",
            "\u001b[33mhint: \u001b[m\n",
            "\u001b[33mhint: Names commonly chosen instead of 'master' are 'main', 'trunk' and\u001b[m\n",
            "\u001b[33mhint: 'development'. The just-created branch can be renamed via this command:\u001b[m\n",
            "\u001b[33mhint: \u001b[m\n",
            "\u001b[33mhint: \tgit branch -m <name>\u001b[m\n",
            "Initialized empty Git repository in /content/.git/\n"
          ]
        }
      ],
      "source": [
        "!git init\n",
        "!git config --global user.name \"Michal\"\n",
        "!git config --global user.email \"michal@ai.com\""
      ]
    },
    {
      "cell_type": "code",
      "source": [
        "!git add .\n"
      ],
      "metadata": {
        "id": "JA0965EdmQNS"
      },
      "execution_count": 4,
      "outputs": []
    },
    {
      "cell_type": "code",
      "source": [
        "!git commit -m \"init commit\""
      ],
      "metadata": {
        "colab": {
          "base_uri": "https://localhost:8080/"
        },
        "id": "HC5vqbkNmcfw",
        "outputId": "3c070ece-bb26-457f-ea48-42339d2020e4"
      },
      "execution_count": 5,
      "outputs": [
        {
          "output_type": "stream",
          "name": "stdout",
          "text": [
            "[master (root-commit) ad0938e] init commit\n",
            " 21 files changed, 51023 insertions(+)\n",
            " create mode 100644 .config/.last_opt_in_prompt.yaml\n",
            " create mode 100644 .config/.last_survey_prompt.yaml\n",
            " create mode 100644 .config/.last_update_check.json\n",
            " create mode 100644 .config/active_config\n",
            " create mode 100644 .config/config_sentinel\n",
            " create mode 100644 .config/configurations/config_default\n",
            " create mode 100644 .config/default_configs.db\n",
            " create mode 100644 .config/gce\n",
            " create mode 100644 .config/hidden_gcloud_config_universe_descriptor_data_cache_configs.db\n",
            " create mode 100644 .config/logs/2025.02.13/14.17.52.239776.log\n",
            " create mode 100644 .config/logs/2025.02.13/14.18.22.924899.log\n",
            " create mode 100644 .config/logs/2025.02.13/14.18.31.091747.log\n",
            " create mode 100644 .config/logs/2025.02.13/14.18.34.923015.log\n",
            " create mode 100644 .config/logs/2025.02.13/14.18.43.611991.log\n",
            " create mode 100644 .config/logs/2025.02.13/14.18.44.294756.log\n",
            " create mode 100755 sample_data/README.md\n",
            " create mode 100755 sample_data/anscombe.json\n",
            " create mode 100644 sample_data/california_housing_test.csv\n",
            " create mode 100644 sample_data/california_housing_train.csv\n",
            " create mode 100644 sample_data/mnist_test.csv\n",
            " create mode 100644 sample_data/mnist_train_small.csv\n"
          ]
        }
      ]
    },
    {
      "cell_type": "code",
      "source": [
        "!git branch -M main"
      ],
      "metadata": {
        "id": "rgWDqufMmzSJ"
      },
      "execution_count": 6,
      "outputs": []
    },
    {
      "cell_type": "code",
      "source": [
        "!git remote remove origin"
      ],
      "metadata": {
        "id": "_TVRpwtdobia"
      },
      "execution_count": 9,
      "outputs": []
    },
    {
      "cell_type": "code",
      "source": [
        "!git push -u origin main"
      ],
      "metadata": {
        "colab": {
          "base_uri": "https://localhost:8080/"
        },
        "id": "LIwlssKPok9h",
        "outputId": "95854491-87c7-4fac-fa58-57f20012e5b6"
      },
      "execution_count": 11,
      "outputs": [
        {
          "output_type": "stream",
          "name": "stdout",
          "text": [
            "Enumerating objects: 28, done.\n",
            "Counting objects:   3% (1/28)\rCounting objects:   7% (2/28)\rCounting objects:  10% (3/28)\rCounting objects:  14% (4/28)\rCounting objects:  17% (5/28)\rCounting objects:  21% (6/28)\rCounting objects:  25% (7/28)\rCounting objects:  28% (8/28)\rCounting objects:  32% (9/28)\rCounting objects:  35% (10/28)\rCounting objects:  39% (11/28)\rCounting objects:  42% (12/28)\rCounting objects:  46% (13/28)\rCounting objects:  50% (14/28)\rCounting objects:  53% (15/28)\rCounting objects:  57% (16/28)\rCounting objects:  60% (17/28)\rCounting objects:  64% (18/28)\rCounting objects:  67% (19/28)\rCounting objects:  71% (20/28)\rCounting objects:  75% (21/28)\rCounting objects:  78% (22/28)\rCounting objects:  82% (23/28)\rCounting objects:  85% (24/28)\rCounting objects:  89% (25/28)\rCounting objects:  92% (26/28)\rCounting objects:  96% (27/28)\rCounting objects: 100% (28/28)\rCounting objects: 100% (28/28), done.\n",
            "Delta compression using up to 2 threads\n",
            "Compressing objects: 100% (21/21), done.\n",
            "Writing objects: 100% (28/28), 8.42 MiB | 2.28 MiB/s, done.\n",
            "Total 28 (delta 4), reused 0 (delta 0), pack-reused 0\n",
            "remote: Resolving deltas: 100% (4/4), done.\u001b[K\n",
            "To https://github.com/ultron682/kursainiedziela17.git\n",
            " * [new branch]      main -> main\n",
            "Branch 'main' set up to track remote branch 'main' from 'origin'.\n"
          ]
        }
      ]
    },
    {
      "cell_type": "code",
      "source": [
        "!git pull origin main"
      ],
      "metadata": {
        "colab": {
          "base_uri": "https://localhost:8080/"
        },
        "id": "PfCF8yYfqH2C",
        "outputId": "317819ff-7421-424e-ae84-01e748ad9e03"
      },
      "execution_count": 12,
      "outputs": [
        {
          "output_type": "stream",
          "name": "stdout",
          "text": [
            "remote: Enumerating objects: 4, done.\u001b[K\n",
            "remote: Counting objects:  25% (1/4)\u001b[K\rremote: Counting objects:  50% (2/4)\u001b[K\rremote: Counting objects:  75% (3/4)\u001b[K\rremote: Counting objects: 100% (4/4)\u001b[K\rremote: Counting objects: 100% (4/4), done.\u001b[K\n",
            "remote: Compressing objects:  50% (1/2)\u001b[K\rremote: Compressing objects: 100% (2/2)\u001b[K\rremote: Compressing objects: 100% (2/2), done.\u001b[K\n",
            "remote: Total 3 (delta 0), reused 0 (delta 0), pack-reused 0 (from 0)\u001b[K\n",
            "Unpacking objects:  33% (1/3)\rUnpacking objects:  66% (2/3)\rUnpacking objects: 100% (3/3)\rUnpacking objects: 100% (3/3), 975 bytes | 975.00 KiB/s, done.\n",
            "From https://github.com/ultron682/kursainiedziela17\n",
            " * branch            main       -> FETCH_HEAD\n",
            "   ad0938e..2106ac6  main       -> origin/main\n",
            "Updating ad0938e..2106ac6\n",
            "Fast-forward\n",
            " README.md | 1 \u001b[32m+\u001b[m\n",
            " 1 file changed, 1 insertion(+)\n",
            " create mode 100644 README.md\n"
          ]
        }
      ]
    },
    {
      "cell_type": "markdown",
      "source": [
        "PYTHON - zmienne, listy, pętle, słowniki, krotki, if, funkcje, wyjątki, obsługa plików\n"
      ],
      "metadata": {
        "id": "MZNidSt8rx7y"
      }
    },
    {
      "cell_type": "code",
      "source": [
        "liczba = 234  # int\n",
        "zmiennoprzecinkowa = 3.14 # float\n",
        "print(type(liczba))\n",
        "logiczna = True  # False\n",
        "napis = \"Tekst\""
      ],
      "metadata": {
        "colab": {
          "base_uri": "https://localhost:8080/"
        },
        "id": "vZhtuQuzsPRM",
        "outputId": "9b6c547e-784b-4d09-d76e-a35fda5b65fa"
      },
      "execution_count": 15,
      "outputs": [
        {
          "output_type": "stream",
          "name": "stdout",
          "text": [
            "<class 'int'>\n"
          ]
        }
      ]
    },
    {
      "cell_type": "code",
      "source": [
        "gry = [\"fortnite\", \"minecraft\", \"cs\", 123, 456.23]\n",
        "print(gry)\n",
        "print(gry[0])\n",
        "gry.append(\"nowy element\");\n",
        "print(gry)"
      ],
      "metadata": {
        "colab": {
          "base_uri": "https://localhost:8080/"
        },
        "id": "DlRlywLws8bw",
        "outputId": "7213fcb4-a657-465e-b995-f9cdaafbaa31"
      },
      "execution_count": 18,
      "outputs": [
        {
          "output_type": "stream",
          "name": "stdout",
          "text": [
            "['fortnite', 'minecraft', 'cs', 123, 456.23]\n",
            "fortnite\n",
            "['fortnite', 'minecraft', 'cs', 123, 456.23, 'nowy element']\n"
          ]
        }
      ]
    },
    {
      "cell_type": "code",
      "source": [
        "licznik = 0\n",
        "while licznik <= 5:\n",
        "  print(licznik)\n",
        "  licznik += 1\n",
        "\n",
        "\n",
        "for element in range(5, 11, 2):\n",
        "  print(element)\n",
        "\n",
        "\n",
        "gry = [\"fortnite\", \"minecraft\", \"cs\"]\n",
        "for element in gry:\n",
        "  print(element)"
      ],
      "metadata": {
        "colab": {
          "base_uri": "https://localhost:8080/"
        },
        "id": "wiJiLW_pt1gC",
        "outputId": "e0321dfc-f168-4c33-db9f-bae7ccc94f45"
      },
      "execution_count": 27,
      "outputs": [
        {
          "output_type": "stream",
          "name": "stdout",
          "text": [
            "5\n",
            "7\n",
            "9\n",
            "fortnite\n",
            "minecraft\n",
            "cs\n"
          ]
        }
      ]
    },
    {
      "cell_type": "code",
      "source": [
        "slownik = {\"kot\": \"cat\",\n",
        "           \"pies\": \"dog\",\n",
        "           \"wąż\":\"snake\"}\n",
        "\n",
        "print(slownik[\"kot\"])\n",
        "\n",
        "print(\"Klucze słownika: \")\n",
        "for key in slownik.keys():\n",
        "  print(key)\n",
        "\n",
        "print(\"Wartości słownika: \")\n",
        "for value in slownik.values():\n",
        "  print(value)"
      ],
      "metadata": {
        "colab": {
          "base_uri": "https://localhost:8080/"
        },
        "id": "QyJhWgXivbi_",
        "outputId": "f70a6038-df1c-4822-e776-5914e853e9d5"
      },
      "execution_count": 29,
      "outputs": [
        {
          "output_type": "stream",
          "name": "stdout",
          "text": [
            "cat\n",
            "Klucze słownika: \n",
            "kot\n",
            "pies\n",
            "wąż\n",
            "Wartości słownika: \n",
            "cat\n",
            "dog\n",
            "snake\n"
          ]
        }
      ]
    },
    {
      "cell_type": "code",
      "source": [
        "# krotki (tuple w c#)\n",
        "wspolrzedne = (3,9)\n",
        "print(f\"wspolrzedne: {wspolrzedne[0]} {wspolrzedne[1]}\")\n",
        "\n",
        "if wspolrzedne[0] > 2 or wspolrzedne[1] > 2 :\n",
        "  print(\"wartosc jest wieksza od 2\")\n",
        "else:\n",
        "  print(\"niestety False\")"
      ],
      "metadata": {
        "colab": {
          "base_uri": "https://localhost:8080/"
        },
        "id": "zNPpVP16wc4v",
        "outputId": "67359c01-e429-43fb-de71-4d82d53df1bd"
      },
      "execution_count": 31,
      "outputs": [
        {
          "output_type": "stream",
          "name": "stdout",
          "text": [
            "wspolrzedne: 3 9\n"
          ]
        }
      ]
    },
    {
      "cell_type": "code",
      "source": [
        "def dodawanie(a,b):\n",
        "  return a + b\n",
        "\n",
        "print(dodawanie(2,5))"
      ],
      "metadata": {
        "colab": {
          "base_uri": "https://localhost:8080/"
        },
        "id": "RDG2Lvh6yCPE",
        "outputId": "42fae6b3-74b6-4b31-95d3-696f8ad13243"
      },
      "execution_count": 32,
      "outputs": [
        {
          "output_type": "stream",
          "name": "stdout",
          "text": [
            "7\n"
          ]
        }
      ]
    },
    {
      "cell_type": "code",
      "source": [
        "with open(\"dane.txt\", \"r\") as file:\n",
        "  for line in file:\n",
        "    print(line)"
      ],
      "metadata": {
        "colab": {
          "base_uri": "https://localhost:8080/"
        },
        "id": "4rFCsAHTyWot",
        "outputId": "1451c01a-6223-47ff-c5f2-8a94ac1d6a62"
      },
      "execution_count": 35,
      "outputs": [
        {
          "output_type": "stream",
          "name": "stdout",
          "text": [
            "fortnite\n",
            "\n",
            "cs\n",
            "\n",
            "minecraft\n",
            "\n",
            "cos nowego\n"
          ]
        }
      ]
    },
    {
      "cell_type": "code",
      "source": [
        "with open(\"dane.txt\", \"a\") as file:\n",
        "  file.write(\"\\ncos nowego\")"
      ],
      "metadata": {
        "id": "X90pMt2By6cT"
      },
      "execution_count": 34,
      "outputs": []
    },
    {
      "cell_type": "code",
      "source": [
        "# dzielenie\n",
        "\n",
        "try:\n",
        "  dzielna = float( input(\"Podaj dzielną\") )\n",
        "  dzielnik = float( input(\"Podaj dzielnik\") )\n",
        "  suma = dzielna / dzielnik\n",
        "except Exception as e:\n",
        "  print(e)\n",
        "finally:\n",
        "  print(\"koniec programu\")\n",
        "\n",
        "print(\"ostatnia linijka\")"
      ],
      "metadata": {
        "colab": {
          "base_uri": "https://localhost:8080/"
        },
        "id": "ffg3_bqzzT6X",
        "outputId": "50eab54f-cce2-4610-a321-46299e8e35de"
      },
      "execution_count": 40,
      "outputs": [
        {
          "output_type": "stream",
          "name": "stdout",
          "text": [
            "Podaj dzielną23\n",
            "Podaj dzielnik0\n",
            "float division by zero\n",
            "koniec programu\n",
            "ostatnia linijka\n"
          ]
        }
      ]
    }
  ]
}